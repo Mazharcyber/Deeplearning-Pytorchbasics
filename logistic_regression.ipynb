{
  "cells": [
    {
      "cell_type": "code",
      "execution_count": 51,
      "id": "bfc39132-f9e4-4605-8621-38ff095c4475",
      "metadata": {
        "colab": {
          "base_uri": "https://localhost:8080/"
        },
        "id": "bfc39132-f9e4-4605-8621-38ff095c4475",
        "outputId": "531c0e05-9b21-477b-d12d-8f3275885345"
      },
      "outputs": [
        {
          "output_type": "stream",
          "name": "stdout",
          "text": [
            "2.6.0+cu124\n"
          ]
        }
      ],
      "source": [
        "import numpy as np\n",
        "import torch\n",
        "import torchvision\n",
        "from torchvision.datasets import MNIST\n",
        "print(torch.__version__)\n"
      ]
    },
    {
      "cell_type": "code",
      "source": [
        "from google.colab import files\n",
        "uploaded = files.upload()  # This will allow you to select files from your local machine\n"
      ],
      "metadata": {
        "colab": {
          "base_uri": "https://localhost:8080/",
          "height": 73
        },
        "id": "JGwmM48lst-9",
        "outputId": "434e3c27-2c41-4ca0-b46a-9ed60e16440a"
      },
      "id": "JGwmM48lst-9",
      "execution_count": 2,
      "outputs": [
        {
          "output_type": "display_data",
          "data": {
            "text/plain": [
              "<IPython.core.display.HTML object>"
            ],
            "text/html": [
              "\n",
              "     <input type=\"file\" id=\"files-6aca2aeb-2517-49b6-bba1-1db6ddf40005\" name=\"files[]\" multiple disabled\n",
              "        style=\"border:none\" />\n",
              "     <output id=\"result-6aca2aeb-2517-49b6-bba1-1db6ddf40005\">\n",
              "      Upload widget is only available when the cell has been executed in the\n",
              "      current browser session. Please rerun this cell to enable.\n",
              "      </output>\n",
              "      <script>// Copyright 2017 Google LLC\n",
              "//\n",
              "// Licensed under the Apache License, Version 2.0 (the \"License\");\n",
              "// you may not use this file except in compliance with the License.\n",
              "// You may obtain a copy of the License at\n",
              "//\n",
              "//      http://www.apache.org/licenses/LICENSE-2.0\n",
              "//\n",
              "// Unless required by applicable law or agreed to in writing, software\n",
              "// distributed under the License is distributed on an \"AS IS\" BASIS,\n",
              "// WITHOUT WARRANTIES OR CONDITIONS OF ANY KIND, either express or implied.\n",
              "// See the License for the specific language governing permissions and\n",
              "// limitations under the License.\n",
              "\n",
              "/**\n",
              " * @fileoverview Helpers for google.colab Python module.\n",
              " */\n",
              "(function(scope) {\n",
              "function span(text, styleAttributes = {}) {\n",
              "  const element = document.createElement('span');\n",
              "  element.textContent = text;\n",
              "  for (const key of Object.keys(styleAttributes)) {\n",
              "    element.style[key] = styleAttributes[key];\n",
              "  }\n",
              "  return element;\n",
              "}\n",
              "\n",
              "// Max number of bytes which will be uploaded at a time.\n",
              "const MAX_PAYLOAD_SIZE = 100 * 1024;\n",
              "\n",
              "function _uploadFiles(inputId, outputId) {\n",
              "  const steps = uploadFilesStep(inputId, outputId);\n",
              "  const outputElement = document.getElementById(outputId);\n",
              "  // Cache steps on the outputElement to make it available for the next call\n",
              "  // to uploadFilesContinue from Python.\n",
              "  outputElement.steps = steps;\n",
              "\n",
              "  return _uploadFilesContinue(outputId);\n",
              "}\n",
              "\n",
              "// This is roughly an async generator (not supported in the browser yet),\n",
              "// where there are multiple asynchronous steps and the Python side is going\n",
              "// to poll for completion of each step.\n",
              "// This uses a Promise to block the python side on completion of each step,\n",
              "// then passes the result of the previous step as the input to the next step.\n",
              "function _uploadFilesContinue(outputId) {\n",
              "  const outputElement = document.getElementById(outputId);\n",
              "  const steps = outputElement.steps;\n",
              "\n",
              "  const next = steps.next(outputElement.lastPromiseValue);\n",
              "  return Promise.resolve(next.value.promise).then((value) => {\n",
              "    // Cache the last promise value to make it available to the next\n",
              "    // step of the generator.\n",
              "    outputElement.lastPromiseValue = value;\n",
              "    return next.value.response;\n",
              "  });\n",
              "}\n",
              "\n",
              "/**\n",
              " * Generator function which is called between each async step of the upload\n",
              " * process.\n",
              " * @param {string} inputId Element ID of the input file picker element.\n",
              " * @param {string} outputId Element ID of the output display.\n",
              " * @return {!Iterable<!Object>} Iterable of next steps.\n",
              " */\n",
              "function* uploadFilesStep(inputId, outputId) {\n",
              "  const inputElement = document.getElementById(inputId);\n",
              "  inputElement.disabled = false;\n",
              "\n",
              "  const outputElement = document.getElementById(outputId);\n",
              "  outputElement.innerHTML = '';\n",
              "\n",
              "  const pickedPromise = new Promise((resolve) => {\n",
              "    inputElement.addEventListener('change', (e) => {\n",
              "      resolve(e.target.files);\n",
              "    });\n",
              "  });\n",
              "\n",
              "  const cancel = document.createElement('button');\n",
              "  inputElement.parentElement.appendChild(cancel);\n",
              "  cancel.textContent = 'Cancel upload';\n",
              "  const cancelPromise = new Promise((resolve) => {\n",
              "    cancel.onclick = () => {\n",
              "      resolve(null);\n",
              "    };\n",
              "  });\n",
              "\n",
              "  // Wait for the user to pick the files.\n",
              "  const files = yield {\n",
              "    promise: Promise.race([pickedPromise, cancelPromise]),\n",
              "    response: {\n",
              "      action: 'starting',\n",
              "    }\n",
              "  };\n",
              "\n",
              "  cancel.remove();\n",
              "\n",
              "  // Disable the input element since further picks are not allowed.\n",
              "  inputElement.disabled = true;\n",
              "\n",
              "  if (!files) {\n",
              "    return {\n",
              "      response: {\n",
              "        action: 'complete',\n",
              "      }\n",
              "    };\n",
              "  }\n",
              "\n",
              "  for (const file of files) {\n",
              "    const li = document.createElement('li');\n",
              "    li.append(span(file.name, {fontWeight: 'bold'}));\n",
              "    li.append(span(\n",
              "        `(${file.type || 'n/a'}) - ${file.size} bytes, ` +\n",
              "        `last modified: ${\n",
              "            file.lastModifiedDate ? file.lastModifiedDate.toLocaleDateString() :\n",
              "                                    'n/a'} - `));\n",
              "    const percent = span('0% done');\n",
              "    li.appendChild(percent);\n",
              "\n",
              "    outputElement.appendChild(li);\n",
              "\n",
              "    const fileDataPromise = new Promise((resolve) => {\n",
              "      const reader = new FileReader();\n",
              "      reader.onload = (e) => {\n",
              "        resolve(e.target.result);\n",
              "      };\n",
              "      reader.readAsArrayBuffer(file);\n",
              "    });\n",
              "    // Wait for the data to be ready.\n",
              "    let fileData = yield {\n",
              "      promise: fileDataPromise,\n",
              "      response: {\n",
              "        action: 'continue',\n",
              "      }\n",
              "    };\n",
              "\n",
              "    // Use a chunked sending to avoid message size limits. See b/62115660.\n",
              "    let position = 0;\n",
              "    do {\n",
              "      const length = Math.min(fileData.byteLength - position, MAX_PAYLOAD_SIZE);\n",
              "      const chunk = new Uint8Array(fileData, position, length);\n",
              "      position += length;\n",
              "\n",
              "      const base64 = btoa(String.fromCharCode.apply(null, chunk));\n",
              "      yield {\n",
              "        response: {\n",
              "          action: 'append',\n",
              "          file: file.name,\n",
              "          data: base64,\n",
              "        },\n",
              "      };\n",
              "\n",
              "      let percentDone = fileData.byteLength === 0 ?\n",
              "          100 :\n",
              "          Math.round((position / fileData.byteLength) * 100);\n",
              "      percent.textContent = `${percentDone}% done`;\n",
              "\n",
              "    } while (position < fileData.byteLength);\n",
              "  }\n",
              "\n",
              "  // All done.\n",
              "  yield {\n",
              "    response: {\n",
              "      action: 'complete',\n",
              "    }\n",
              "  };\n",
              "}\n",
              "\n",
              "scope.google = scope.google || {};\n",
              "scope.google.colab = scope.google.colab || {};\n",
              "scope.google.colab._files = {\n",
              "  _uploadFiles,\n",
              "  _uploadFilesContinue,\n",
              "};\n",
              "})(self);\n",
              "</script> "
            ]
          },
          "metadata": {}
        },
        {
          "output_type": "stream",
          "name": "stdout",
          "text": [
            "Saving data.zip to data.zip\n"
          ]
        }
      ]
    },
    {
      "cell_type": "code",
      "source": [
        "import zipfile\n",
        "import os\n",
        "\n",
        "# Specify the uploaded zip file's name\n",
        "zip_filename = \"data.zip\"\n",
        "\n",
        "# Create a directory to extract the files into\n",
        "extracted_folder = \"/content/extracted_data\"  # You can change this path if needed\n",
        "\n",
        "# Extract the zip file\n",
        "with zipfile.ZipFile(zip_filename, 'r') as zip_ref:\n",
        "    zip_ref.extractall(extracted_folder)\n",
        "\n",
        "print(f\"Files extracted to {extracted_folder}\")\n"
      ],
      "metadata": {
        "colab": {
          "base_uri": "https://localhost:8080/"
        },
        "id": "o3n3ZFtDtOlO",
        "outputId": "2f0ce64e-e0c7-455b-eea1-971d7b78c717"
      },
      "id": "o3n3ZFtDtOlO",
      "execution_count": 52,
      "outputs": [
        {
          "output_type": "stream",
          "name": "stdout",
          "text": [
            "Files extracted to /content/extracted_data\n"
          ]
        }
      ]
    },
    {
      "cell_type": "code",
      "source": [
        "# List the files in the extracted folder\n",
        "extracted_files = os.listdir(extracted_folder)\n",
        "print(extracted_files)\n"
      ],
      "metadata": {
        "colab": {
          "base_uri": "https://localhost:8080/"
        },
        "id": "eeG_3XUCtVHV",
        "outputId": "f4a7b692-962b-4005-e808-bd10fa0e575a"
      },
      "id": "eeG_3XUCtVHV",
      "execution_count": 53,
      "outputs": [
        {
          "output_type": "stream",
          "name": "stdout",
          "text": [
            "['data']\n"
          ]
        }
      ]
    },
    {
      "cell_type": "markdown",
      "id": "65a86f8d-0998-4879-9d87-801b1df69f3f",
      "metadata": {
        "id": "65a86f8d-0998-4879-9d87-801b1df69f3f"
      },
      "source": [
        "# Image classification using MNSIT data set"
      ]
    },
    {
      "cell_type": "code",
      "execution_count": 7,
      "id": "7874f58c-e799-40e6-a88f-861a596d38da",
      "metadata": {
        "id": "7874f58c-e799-40e6-a88f-861a596d38da"
      },
      "outputs": [],
      "source": [
        "# Download the dataset\n",
        "# dataset = MNIST(root ='data/', download = True)"
      ]
    },
    {
      "cell_type": "code",
      "source": [
        "dataset = MNIST(root='extracted_data/data/', train=True, download=False)\n"
      ],
      "metadata": {
        "id": "Crs_M5GDtgGs"
      },
      "id": "Crs_M5GDtgGs",
      "execution_count": 54,
      "outputs": []
    },
    {
      "cell_type": "code",
      "execution_count": 55,
      "id": "9e020b73-8369-4df3-94bd-b6905c09cdba",
      "metadata": {
        "colab": {
          "base_uri": "https://localhost:8080/"
        },
        "id": "9e020b73-8369-4df3-94bd-b6905c09cdba",
        "outputId": "fc91d41c-35f7-4f0e-a1c0-fea6550aff50"
      },
      "outputs": [
        {
          "output_type": "execute_result",
          "data": {
            "text/plain": [
              "Dataset MNIST\n",
              "    Number of datapoints: 60000\n",
              "    Root location: extracted_data/data/\n",
              "    Split: Train"
            ]
          },
          "metadata": {},
          "execution_count": 55
        }
      ],
      "source": [
        "dataset"
      ]
    },
    {
      "cell_type": "code",
      "execution_count": 7,
      "id": "82a0f3a8-06fb-4c80-af69-6f4b1445e934",
      "metadata": {
        "colab": {
          "base_uri": "https://localhost:8080/"
        },
        "id": "82a0f3a8-06fb-4c80-af69-6f4b1445e934",
        "outputId": "291e43b2-b9c1-439d-9fb2-5c4b07857bf5"
      },
      "outputs": [
        {
          "output_type": "execute_result",
          "data": {
            "text/plain": [
              "60000"
            ]
          },
          "metadata": {},
          "execution_count": 7
        }
      ],
      "source": [
        "len(dataset)   # there are 6000 images in the dataset, there is also a set of 10,000 images which can be created by passing the train = False to MNIST class"
      ]
    },
    {
      "cell_type": "code",
      "execution_count": 8,
      "id": "ee6ffbd0-de3f-4e48-8247-b9378eaf6315",
      "metadata": {
        "colab": {
          "base_uri": "https://localhost:8080/"
        },
        "id": "ee6ffbd0-de3f-4e48-8247-b9378eaf6315",
        "outputId": "35a99232-4cf2-4fdd-ae13-99c43f764be1"
      },
      "outputs": [
        {
          "output_type": "execute_result",
          "data": {
            "text/plain": [
              "10000"
            ]
          },
          "metadata": {},
          "execution_count": 8
        }
      ],
      "source": [
        "test_dataset = MNIST(root ='extracted_data/data/', train = False)  # 10000 images for the test not for training\n",
        "len(test_dataset)"
      ]
    },
    {
      "cell_type": "code",
      "execution_count": null,
      "id": "08439680-bc63-4ec2-a22e-baee8b03b7df",
      "metadata": {
        "id": "08439680-bc63-4ec2-a22e-baee8b03b7df"
      },
      "outputs": [],
      "source": [
        "# it is a supervsided,so every image in the training data has a labels"
      ]
    },
    {
      "cell_type": "code",
      "execution_count": 56,
      "id": "faa4d97c-fcec-4498-ad83-19a9bbf7e714",
      "metadata": {
        "id": "faa4d97c-fcec-4498-ad83-19a9bbf7e714"
      },
      "outputs": [],
      "source": [
        "import matplotlib.pyplot as plt  # This imports the plotting library\n",
        "\n",
        "# This magic command displays plots directly inside the Jupyter Notebook\n",
        "%matplotlib inline"
      ]
    },
    {
      "cell_type": "code",
      "execution_count": 57,
      "id": "996d0643-4adb-4d83-9f07-cb1046286be6",
      "metadata": {
        "colab": {
          "base_uri": "https://localhost:8080/",
          "height": 447
        },
        "id": "996d0643-4adb-4d83-9f07-cb1046286be6",
        "outputId": "26d6a5d4-1e73-4c76-e352-77f6492e778d"
      },
      "outputs": [
        {
          "output_type": "stream",
          "name": "stdout",
          "text": [
            "label 5\n"
          ]
        },
        {
          "output_type": "display_data",
          "data": {
            "text/plain": [
              "<Figure size 640x480 with 1 Axes>"
            ],
            "image/png": "[encoded data removed]"
          },
          "metadata": {}
        }
      ],
      "source": [
        "# please try to run this line if you are using google colab or other..... on classical notebook it will died/crash your kernel\n",
        "image, label = dataset[0]\n",
        "plt.imshow(image,cmap ='gray')\n",
        "print('label', label)"
      ]
    },
    {
      "cell_type": "code",
      "execution_count": 58,
      "id": "b3a4e845-ccf9-46b3-8ac8-6baf26f227d2",
      "metadata": {
        "colab": {
          "base_uri": "https://localhost:8080/",
          "height": 447
        },
        "id": "b3a4e845-ccf9-46b3-8ac8-6baf26f227d2",
        "outputId": "8840b3e0-76e7-4ce1-ea7e-a46c62fd8b0c"
      },
      "outputs": [
        {
          "output_type": "stream",
          "name": "stdout",
          "text": [
            "lable 3\n"
          ]
        },
        {
          "output_type": "display_data",
          "data": {
            "text/plain": [
              "<Figure size 640x480 with 1 Axes>"
            ],
            "image/png": "[encoded data removed]"
          },
          "metadata": {}
        }
      ],
      "source": [
        "image, label = dataset[10]\n",
        "plt.imshow(image,cmap = 'gray')\n",
        "print('lable',label)"
      ]
    },
    {
      "cell_type": "code",
      "execution_count": 19,
      "id": "30d2d155-d010-42cd-b535-7801b0507591",
      "metadata": {
        "id": "30d2d155-d010-42cd-b535-7801b0507591"
      },
      "outputs": [],
      "source": [
        "# so the thing is pytrch does not now how to work with images so we need to convert it into the tensors"
      ]
    },
    {
      "cell_type": "code",
      "source": [
        "import torchvision.transforms as transforms"
      ],
      "metadata": {
        "id": "ci1bKLbDwsha"
      },
      "id": "ci1bKLbDwsha",
      "execution_count": 59,
      "outputs": []
    },
    {
      "cell_type": "code",
      "source": [
        "dataset = MNIST(root='extracted_data/data/', train=True, transform= transforms.ToTensor())"
      ],
      "metadata": {
        "id": "V50YYsQpwxb6"
      },
      "id": "V50YYsQpwxb6",
      "execution_count": 60,
      "outputs": []
    },
    {
      "cell_type": "code",
      "source": [
        "img_tensor, label = dataset[0]\n",
        "print(img_tensor.shape, label)    # the 1 in the output is mean the color (The image has 1 color channel (grayscale).)"
      ],
      "metadata": {
        "colab": {
          "base_uri": "https://localhost:8080/"
        },
        "id": "MQ2epeUDxfb7",
        "outputId": "cea9702e-733b-4348-f6b7-0e56381d3061"
      },
      "id": "MQ2epeUDxfb7",
      "execution_count": 61,
      "outputs": [
        {
          "output_type": "stream",
          "name": "stdout",
          "text": [
            "torch.Size([1, 28, 28]) 5\n"
          ]
        }
      ]
    },
    {
      "cell_type": "code",
      "source": [
        "# Print a 5x5 sub-region of the image from row 10 to 14 and column 10 to 14\n",
        "# img_tensor is the tensor representing the image (shape: [1, 28, 28])\n",
        "# We use slicing to extract a 5x5 part of the image starting from row 10 to 14 and column 10 to 14\n",
        "print(img_tensor[:, 10:15, 10:15])\n",
        "\n",
        "# Print the maximum and minimum pixel values in the entire image tensor\n",
        "# torch.max() returns the maximum pixel value in the image tensor (for MNIST, usually 255)\n",
        "# torch.min() returns the minimum pixel value in the image tensor (for MNIST, usually 0)\n",
        "# the values near to 1 is basically white and 0 mean black\n",
        "print(torch.max(img_tensor), torch.min(img_tensor))\n"
      ],
      "metadata": {
        "colab": {
          "base_uri": "https://localhost:8080/"
        },
        "id": "myi1H16ZygBC",
        "outputId": "12e6f8fe-9357-4a53-efbf-a7c72ddbf341"
      },
      "id": "myi1H16ZygBC",
      "execution_count": 62,
      "outputs": [
        {
          "output_type": "stream",
          "name": "stdout",
          "text": [
            "tensor([[[0.0039, 0.6039, 0.9922, 0.3529, 0.0000],\n",
            "         [0.0000, 0.5451, 0.9922, 0.7451, 0.0078],\n",
            "         [0.0000, 0.0431, 0.7451, 0.9922, 0.2745],\n",
            "         [0.0000, 0.0000, 0.1373, 0.9451, 0.8824],\n",
            "         [0.0000, 0.0000, 0.0000, 0.3176, 0.9412]]])\n",
            "tensor(1.) tensor(0.)\n"
          ]
        }
      ]
    },
    {
      "cell_type": "code",
      "source": [
        "plt.imshow(img_tensor[0,10:15,10:15],cmap ='gray')"
      ],
      "metadata": {
        "colab": {
          "base_uri": "https://localhost:8080/",
          "height": 447
        },
        "id": "0xpU7mAYzK6-",
        "outputId": "f4218a27-218c-41d5-a38b-0b5a4e173be3"
      },
      "id": "0xpU7mAYzK6-",
      "execution_count": 63,
      "outputs": [
        {
          "output_type": "execute_result",
          "data": {
            "text/plain": [
              "<matplotlib.image.AxesImage at 0x78457f40c950>"
            ]
          },
          "metadata": {},
          "execution_count": 63
        },
        {
          "output_type": "display_data",
          "data": {
            "text/plain": [
              "<Figure size 640x480 with 1 Axes>"
            ],
            "image/png": "[encoded data removed]"
          },
          "metadata": {}
        }
      ]
    },
    {
      "cell_type": "code",
      "source": [
        "# Training and Validation Datasets\n",
        "\n",
        "# 1. Training Set:\n",
        "# The training set is the data used to train the machine learning model.\n",
        "# It consists of labeled examples (inputs and outputs) that the model learns from.\n",
        "# The goal is for the model to find patterns or relationships in this data so it can make accurate predictions on new data.\n",
        "\n",
        "# Example: The model sees images of numbers (0-9) along with their labels during training and learns to classify them.\n",
        "\n",
        "# 2. Validation Set:\n",
        "# The validation set is a subset of the data that is used to evaluate the model during the training process.\n",
        "# It helps in tuning the model's hyperparameters (like learning rate, number of epochs, etc.) and checking if the model is overfitting.\n",
        "# It is separate from the training set and should not be used to train the model.\n",
        "\n",
        "# Example: After training for a few epochs, the model is tested on the validation set to monitor its performance and adjust hyperparameters if necessary.\n",
        "\n",
        "# 3. Test Set:\n",
        "# The test set is a completely separate portion of the data that is used to evaluate the final performance of the model.\n",
        "# This set is not used during training or validation and provides an unbiased estimate of how well the model performs on unseen data.\n",
        "# The test set is used only after training and validation are complete.\n",
        "\n",
        "# Example: After training and tuning the model using the training and validation sets, the model is tested on the test set to see how well it generalizes to new, real-world data.\n",
        "\n"
      ],
      "metadata": {
        "id": "x2Js_5kd0jWf"
      },
      "id": "x2Js_5kd0jWf",
      "execution_count": 26,
      "outputs": []
    },
    {
      "cell_type": "code",
      "source": [
        "from torch.utils.data import random_split\n",
        "\n",
        "train_ds, val_ds = random_split(dataset, [50000, 10000])\n",
        "len(train_ds), len(val_ds)"
      ],
      "metadata": {
        "colab": {
          "base_uri": "https://localhost:8080/"
        },
        "id": "IXxB8JmW2Caa",
        "outputId": "6e35bf2e-5ad0-4e0b-de83-2bf8e18a4c6d"
      },
      "id": "IXxB8JmW2Caa",
      "execution_count": 64,
      "outputs": [
        {
          "output_type": "execute_result",
          "data": {
            "text/plain": [
              "(50000, 10000)"
            ]
          },
          "metadata": {},
          "execution_count": 64
        }
      ]
    },
    {
      "cell_type": "code",
      "source": [
        "from torch.utils.data import DataLoader\n",
        "\n",
        "batch_size =128\n",
        "\n",
        "train_loader = DataLoader(train_ds, batch_size, shuffle= True)\n",
        "val_loader = DataLoader(val_ds,batch_size)\n"
      ],
      "metadata": {
        "id": "oxF_6ZnP2nbO"
      },
      "id": "oxF_6ZnP2nbO",
      "execution_count": 65,
      "outputs": []
    },
    {
      "cell_type": "code",
      "source": [
        "import torch.nn as nn\n",
        "\n",
        "# The input size of the image is determined based on the shape of each image in the dataset.\n",
        "# In the MNIST dataset, each image is a 28x28 pixel grayscale image, which gives 28 * 28 = 784 pixels in total.\n",
        "# This is why we use 28*28 as the input size for the logistic regression model.\n",
        "\n",
        "input_size = 28 * 28  # Each image has 28x28 pixels, flattened to a vector of length 784\n",
        "num_classes = 10  # The MNIST dataset has 10 classes (digits 0 to 9)\n",
        "\n",
        "# Creating a logistic regression model using a single fully connected layer\n",
        "# The model will take a 784-dimensional input (flattened 28x28 image) and output 10 values (for each digit class)\n",
        "model = nn.Linear(input_size, num_classes)  # Linear layer with input size and output size (number of classes)\n"
      ],
      "metadata": {
        "id": "zPWJJdh9PbFJ"
      },
      "id": "zPWJJdh9PbFJ",
      "execution_count": 66,
      "outputs": []
    },
    {
      "cell_type": "code",
      "source": [
        "print(model.weight.shape)\n",
        "model.weight"
      ],
      "metadata": {
        "colab": {
          "base_uri": "https://localhost:8080/"
        },
        "id": "fOOnBjRJRONu",
        "outputId": "89b95852-1848-4899-d49f-4c4ca009bd55"
      },
      "id": "fOOnBjRJRONu",
      "execution_count": 19,
      "outputs": [
        {
          "output_type": "stream",
          "name": "stdout",
          "text": [
            "torch.Size([10, 784])\n"
          ]
        },
        {
          "output_type": "execute_result",
          "data": {
            "text/plain": [
              "Parameter containing:\n",
              "tensor([[-0.0150,  0.0024, -0.0251,  ...,  0.0026,  0.0172, -0.0330],\n",
              "        [ 0.0272, -0.0354, -0.0257,  ..., -0.0056, -0.0049,  0.0010],\n",
              "        [-0.0124, -0.0147,  0.0113,  ...,  0.0299,  0.0246, -0.0165],\n",
              "        ...,\n",
              "        [ 0.0137, -0.0258, -0.0123,  ..., -0.0314,  0.0080,  0.0013],\n",
              "        [ 0.0345, -0.0057,  0.0290,  ...,  0.0225, -0.0121, -0.0267],\n",
              "        [ 0.0018, -0.0143, -0.0195,  ...,  0.0299, -0.0015, -0.0168]],\n",
              "       requires_grad=True)"
            ]
          },
          "metadata": {},
          "execution_count": 19
        }
      ]
    },
    {
      "cell_type": "code",
      "source": [
        "print(model.bias.shape)\n",
        "model.bias"
      ],
      "metadata": {
        "colab": {
          "base_uri": "https://localhost:8080/"
        },
        "id": "5WciWfkARVc0",
        "outputId": "a55dc0de-73f3-4137-e70e-99c28b7347f4"
      },
      "id": "5WciWfkARVc0",
      "execution_count": 20,
      "outputs": [
        {
          "output_type": "stream",
          "name": "stdout",
          "text": [
            "torch.Size([10])\n"
          ]
        },
        {
          "output_type": "execute_result",
          "data": {
            "text/plain": [
              "Parameter containing:\n",
              "tensor([ 0.0215,  0.0277,  0.0026,  0.0192, -0.0295,  0.0037,  0.0120, -0.0104,\n",
              "        -0.0234, -0.0291], requires_grad=True)"
            ]
          },
          "metadata": {},
          "execution_count": 20
        }
      ]
    },
    {
      "cell_type": "code",
      "source": [
        "class MnistModel(nn.Module):\n",
        "    def __init__(self):\n",
        "        super().__init__()\n",
        "        # Define a fully connected (linear) layer to map input_size to num_classes\n",
        "        self.Linear = nn.Linear(input_size, num_classes)\n",
        "\n",
        "    def forward(self, x):\n",
        "        # Reshape the input 'x' to a 2D tensor where the second dimension is 784 (28x28 pixels flattened)\n",
        "        xb = x.reshape(-1, 784)  # '-1' means batch size, 784 is the flattened size of 28x28 images\n",
        "\n",
        "        # Pass the reshaped input through the linear layer\n",
        "        out = self.Linear(xb)\n",
        "\n",
        "        return out\n",
        "\n",
        "# Instantiate the model\n",
        "model = MnistModel()\n"
      ],
      "metadata": {
        "id": "hqfS0n-PRcE-"
      },
      "id": "hqfS0n-PRcE-",
      "execution_count": 67,
      "outputs": []
    },
    {
      "cell_type": "code",
      "source": [
        "for images, label in train_loader:\n",
        "  print('images.shape:', images.shape)\n",
        "  outputs = model(images)\n",
        "  break\n",
        "\n",
        "print('output.shape:', outputs.shape)\n",
        "print('sample outputs:\\n', outputs[:2].data)"
      ],
      "metadata": {
        "colab": {
          "base_uri": "https://localhost:8080/"
        },
        "id": "zKp6viDIUuaB",
        "outputId": "1bd5d703-31cc-4da3-e4b6-4fd4bfbb4525"
      },
      "id": "zKp6viDIUuaB",
      "execution_count": 68,
      "outputs": [
        {
          "output_type": "stream",
          "name": "stdout",
          "text": [
            "images.shape: torch.Size([128, 1, 28, 28])\n",
            "output.shape: torch.Size([128, 10])\n",
            "sample outputs:\n",
            " tensor([[-0.2232,  0.0205,  0.0342,  0.0260,  0.0852, -0.0645, -0.0178,  0.0042,\n",
            "          0.0554,  0.1260],\n",
            "        [-0.1917, -0.3181, -0.1082,  0.1873,  0.4737,  0.2387, -0.1010,  0.1796,\n",
            "          0.1972, -0.0843]])\n"
          ]
        }
      ]
    },
    {
      "cell_type": "code",
      "source": [
        "import torch.nn.functional as F\n"
      ],
      "metadata": {
        "id": "h7NxyJY2VtCo"
      },
      "id": "h7NxyJY2VtCo",
      "execution_count": 69,
      "outputs": []
    },
    {
      "cell_type": "code",
      "source": [
        "# apply softmax for each output row\n",
        "probs = F.softmax(outputs, dim = 1)\n",
        "\n",
        "#look at sample probabilities\n",
        "print(\"sample probabilities:\\n\", probs[:2].data)\n",
        "\n",
        "#adding up the probabaities of an output row\n",
        "\n",
        "print(\"sum:\", torch.sum(probs[0]).item())\n"
      ],
      "metadata": {
        "colab": {
          "base_uri": "https://localhost:8080/"
        },
        "id": "t2w5t1fkWJyG",
        "outputId": "9978e706-c8cc-481f-9a56-db31e97883e4"
      },
      "id": "t2w5t1fkWJyG",
      "execution_count": 70,
      "outputs": [
        {
          "output_type": "stream",
          "name": "stdout",
          "text": [
            "sample probabilities:\n",
            " tensor([[0.0793, 0.1012, 0.1026, 0.1018, 0.1080, 0.0930, 0.0974, 0.0996, 0.1048,\n",
            "         0.1125],\n",
            "        [0.0767, 0.0676, 0.0833, 0.1120, 0.1491, 0.1179, 0.0839, 0.1111, 0.1131,\n",
            "         0.0853]])\n",
            "sum: 1.0\n"
          ]
        }
      ]
    },
    {
      "cell_type": "code",
      "source": [
        "max_probs,  preds = torch.max(probs, dim =1)\n",
        "print(preds)\n",
        "\n",
        "print(max_probs)"
      ],
      "metadata": {
        "colab": {
          "base_uri": "https://localhost:8080/"
        },
        "id": "C6hp8DpsW2Dg",
        "outputId": "4c78ff8a-d524-487e-f992-d504c1e75a40"
      },
      "id": "C6hp8DpsW2Dg",
      "execution_count": 71,
      "outputs": [
        {
          "output_type": "stream",
          "name": "stdout",
          "text": [
            "tensor([9, 4, 4, 4, 4, 4, 4, 9, 4, 9, 5, 4, 4, 4, 5, 8, 4, 3, 4, 3, 6, 3, 3, 8,\n",
            "        4, 9, 3, 4, 9, 4, 9, 4, 4, 9, 2, 6, 5, 7, 4, 4, 9, 5, 3, 3, 4, 3, 2, 4,\n",
            "        4, 4, 9, 5, 1, 4, 4, 2, 8, 4, 2, 6, 4, 9, 4, 3, 4, 4, 8, 3, 4, 4, 4, 4,\n",
            "        3, 4, 2, 8, 4, 4, 3, 4, 9, 4, 4, 4, 4, 4, 8, 2, 9, 4, 9, 5, 4, 9, 3, 4,\n",
            "        4, 4, 9, 5, 8, 8, 9, 3, 5, 4, 4, 3, 9, 4, 3, 4, 5, 9, 3, 4, 3, 4, 5, 4,\n",
            "        2, 9, 2, 2, 5, 9, 3, 7])\n",
            "tensor([0.1125, 0.1491, 0.1330, 0.1733, 0.1265, 0.1437, 0.1397, 0.1211, 0.1413,\n",
            "        0.1273, 0.1243, 0.1325, 0.1507, 0.1362, 0.1395, 0.1432, 0.1401, 0.1152,\n",
            "        0.1230, 0.1338, 0.1310, 0.1345, 0.1439, 0.1413, 0.1302, 0.1198, 0.1181,\n",
            "        0.1257, 0.1276, 0.1332, 0.1299, 0.1247, 0.1232, 0.1303, 0.1144, 0.1282,\n",
            "        0.1213, 0.1305, 0.1259, 0.1382, 0.1152, 0.1185, 0.1371, 0.1436, 0.1706,\n",
            "        0.1308, 0.1269, 0.1369, 0.1344, 0.1304, 0.1219, 0.1181, 0.1173, 0.1612,\n",
            "        0.1611, 0.1328, 0.1241, 0.1473, 0.1316, 0.1166, 0.1321, 0.1596, 0.1473,\n",
            "        0.1289, 0.1509, 0.1294, 0.1472, 0.1341, 0.1474, 0.1361, 0.1443, 0.1632,\n",
            "        0.1240, 0.1422, 0.1228, 0.1142, 0.1538, 0.1214, 0.1212, 0.1438, 0.1115,\n",
            "        0.1385, 0.1242, 0.1249, 0.1436, 0.1274, 0.1508, 0.1362, 0.1314, 0.1289,\n",
            "        0.1170, 0.1226, 0.1230, 0.1269, 0.1490, 0.1303, 0.1482, 0.1248, 0.1197,\n",
            "        0.1273, 0.1408, 0.1310, 0.1403, 0.1349, 0.1145, 0.1347, 0.1076, 0.1248,\n",
            "        0.1208, 0.1366, 0.1217, 0.1476, 0.1343, 0.1256, 0.1361, 0.1440, 0.1382,\n",
            "        0.1381, 0.1258, 0.1657, 0.1345, 0.1176, 0.1167, 0.1218, 0.1391, 0.1198,\n",
            "        0.1257, 0.1193], grad_fn=<MaxBackward0>)\n"
          ]
        }
      ]
    },
    {
      "cell_type": "code",
      "source": [
        "# Evaluation Metric and loss function\n",
        "\n",
        "def accuracy(outputs, labels):\n",
        "  _, preds = torch.max(outputs,dim = 1)\n",
        "  return torch.tensor(torch.sum(preds == labels).item()/len(preds))"
      ],
      "metadata": {
        "id": "0EsM77ciXP2n"
      },
      "id": "0EsM77ciXP2n",
      "execution_count": 72,
      "outputs": []
    },
    {
      "cell_type": "code",
      "source": [
        "accuracy(outputs, label)"
      ],
      "metadata": {
        "colab": {
          "base_uri": "https://localhost:8080/"
        },
        "id": "TzykbOg-jCbW",
        "outputId": "7a767c89-0028-4790-a8bb-a14798ccadda"
      },
      "id": "TzykbOg-jCbW",
      "execution_count": 73,
      "outputs": [
        {
          "output_type": "execute_result",
          "data": {
            "text/plain": [
              "tensor(0.1406)"
            ]
          },
          "metadata": {},
          "execution_count": 73
        }
      ]
    },
    {
      "cell_type": "code",
      "source": [
        "loss_fn = F.cross_entropy"
      ],
      "metadata": {
        "id": "64X5jZF5kEIi"
      },
      "id": "64X5jZF5kEIi",
      "execution_count": 74,
      "outputs": []
    },
    {
      "cell_type": "code",
      "source": [
        "# loss for current batch of data\n",
        "\n",
        "loss = loss_fn(outputs,label)\n",
        "print(loss)"
      ],
      "metadata": {
        "colab": {
          "base_uri": "https://localhost:8080/"
        },
        "id": "VoYtnKDAlgqX",
        "outputId": "d30b4fda-4319-409b-e717-bc6e8c5e98b8"
      },
      "id": "VoYtnKDAlgqX",
      "execution_count": 75,
      "outputs": [
        {
          "output_type": "stream",
          "name": "stdout",
          "text": [
            "tensor(2.3072, grad_fn=<NllLossBackward0>)\n"
          ]
        }
      ]
    },
    {
      "cell_type": "markdown",
      "source": [
        "**Training Model**"
      ],
      "metadata": {
        "id": "I-QcvRKtme0B"
      },
      "id": "I-QcvRKtme0B"
    },
    {
      "cell_type": "code",
      "source": [
        "class MnistModel(nn.Module):\n",
        "  def __init__(self):\n",
        "    super().__init__()\n",
        "    self.linear = nn.Linear(input_size,num_classes)\n",
        "\n",
        "  def forward(self, xb):\n",
        "    xb = xb.reshape(-1,784)\n",
        "    out = self.linear(xb)\n",
        "    return out\n",
        "\n",
        "  def training_step(self, batch):\n",
        "    images ,labels = batch\n",
        "    out = self(images)  #generate predication\n",
        "    loss = F.cross_entropy(out,labels)  # calculate loss\n",
        "\n",
        "    return loss\n",
        "\n",
        "  def validation_step(self, batch):\n",
        "    images, labels = batch\n",
        "    out = self(images)  #generate predication\n",
        "    loss = F.cross_entropy(out,labels)  # calculate loss\n",
        "    acc = accuracy(out,labels)\n",
        "    return {'val_loss': loss, 'val_acc':acc}\n",
        "\n",
        "\n",
        "  def validation_epoch_end(self, outputs):\n",
        "    batch_losses = [x['val_loss'] for x in outputs]\n",
        "    epoch_loss = torch.stack(batch_losses).mean()   #combine losses\n",
        "    batch_accs= [x['val_acc']for x in outputs]\n",
        "    epoch_acc = torch.stack(batch_accs).mean()\n",
        "    return {'val_loss':epoch_loss.item(),'val_acc':epoch_acc.item()}\n",
        "\n",
        "  def epoch_end(self,epoch,result):\n",
        "    print(\"Epoch[{}], val_loss: {:.4f}, val_acc:{:.4f}\".format(epoch, result['val_loss'],result['val_acc']))\n",
        "\n",
        "\n",
        "model = MnistModel()"
      ],
      "metadata": {
        "id": "9L_lrc3jmkZ3"
      },
      "id": "9L_lrc3jmkZ3",
      "execution_count": 77,
      "outputs": []
    },
    {
      "cell_type": "code",
      "source": [
        "def evaluate(model, val_loder):\n",
        "  outputs =[model.validation_step(batch) for batch in val_loader]\n",
        "  return model.validation_epoch_end(outputs)\n",
        "\n",
        "\n",
        "def fit(epochs, lr, model, train_loader, val_loader, opt_func = torch.optim.SGD):\n",
        "  history = []\n",
        "  optimizer = opt_func(model.parameters(), lr)\n",
        "  for epoch in range(epochs):\n",
        "    #traininng phase\n",
        "    for batch in train_loader:\n",
        "      loss = model.training_step(batch)\n",
        "      loss.backward()\n",
        "      optimizer.step()\n",
        "      optimizer.zero_grad()\n",
        "      #validation phase\n",
        "      result = evaluate(model, val_loader)\n",
        "      model.epoch_end(epoch, result)\n",
        "      history.append(result)\n",
        "\n",
        "    return history\n",
        "\n",
        ""
      ],
      "metadata": {
        "id": "tCXUdrzjpwsf"
      },
      "id": "tCXUdrzjpwsf",
      "execution_count": 78,
      "outputs": []
    },
    {
      "cell_type": "code",
      "source": [
        "result0 = evaluate(model, val_loader)\n",
        "result0"
      ],
      "metadata": {
        "colab": {
          "base_uri": "https://localhost:8080/"
        },
        "id": "LTeVQ30B5upy",
        "outputId": "65729f0e-a5d2-4982-a850-635ff3aff74c"
      },
      "id": "LTeVQ30B5upy",
      "execution_count": 79,
      "outputs": [
        {
          "output_type": "execute_result",
          "data": {
            "text/plain": [
              "{'val_loss': 2.309373378753662, 'val_acc': 0.09909018874168396}"
            ]
          },
          "metadata": {},
          "execution_count": 79
        }
      ]
    },
    {
      "cell_type": "code",
      "source": [
        "history1 = fit(15, 0.001, model, train_loader,  val_loader)"
      ],
      "metadata": {
        "colab": {
          "base_uri": "https://localhost:8080/"
        },
        "id": "ZyYNqidt53TA",
        "outputId": "d4c09f60-f7e7-4378-f0fc-321f78c688ff"
      },
      "id": "ZyYNqidt53TA",
      "execution_count": 80,
      "outputs": [
        {
          "output_type": "stream",
          "name": "stdout",
          "text": [
            "Epoch[0], val_loss: 2.3084, val_acc:0.1009\n",
            "Epoch[0], val_loss: 2.3072, val_acc:0.1019\n",
            "Epoch[0], val_loss: 2.3060, val_acc:0.1037\n",
            "Epoch[0], val_loss: 2.3049, val_acc:0.1049\n",
            "Epoch[0], val_loss: 2.3038, val_acc:0.1057\n",
            "Epoch[0], val_loss: 2.3027, val_acc:0.1070\n",
            "Epoch[0], val_loss: 2.3016, val_acc:0.1080\n",
            "Epoch[0], val_loss: 2.3004, val_acc:0.1095\n",
            "Epoch[0], val_loss: 2.2993, val_acc:0.1101\n",
            "Epoch[0], val_loss: 2.2983, val_acc:0.1114\n",
            "Epoch[0], val_loss: 2.2973, val_acc:0.1123\n",
            "Epoch[0], val_loss: 2.2962, val_acc:0.1135\n",
            "Epoch[0], val_loss: 2.2951, val_acc:0.1151\n",
            "Epoch[0], val_loss: 2.2940, val_acc:0.1160\n",
            "Epoch[0], val_loss: 2.2929, val_acc:0.1175\n",
            "Epoch[0], val_loss: 2.2919, val_acc:0.1186\n",
            "Epoch[0], val_loss: 2.2908, val_acc:0.1193\n",
            "Epoch[0], val_loss: 2.2896, val_acc:0.1198\n",
            "Epoch[0], val_loss: 2.2885, val_acc:0.1207\n",
            "Epoch[0], val_loss: 2.2874, val_acc:0.1224\n",
            "Epoch[0], val_loss: 2.2863, val_acc:0.1239\n",
            "Epoch[0], val_loss: 2.2849, val_acc:0.1244\n",
            "Epoch[0], val_loss: 2.2837, val_acc:0.1271\n",
            "Epoch[0], val_loss: 2.2826, val_acc:0.1283\n",
            "Epoch[0], val_loss: 2.2815, val_acc:0.1298\n",
            "Epoch[0], val_loss: 2.2805, val_acc:0.1312\n",
            "Epoch[0], val_loss: 2.2793, val_acc:0.1327\n",
            "Epoch[0], val_loss: 2.2782, val_acc:0.1349\n",
            "Epoch[0], val_loss: 2.2771, val_acc:0.1363\n",
            "Epoch[0], val_loss: 2.2761, val_acc:0.1378\n",
            "Epoch[0], val_loss: 2.2750, val_acc:0.1387\n",
            "Epoch[0], val_loss: 2.2739, val_acc:0.1402\n",
            "Epoch[0], val_loss: 2.2728, val_acc:0.1419\n",
            "Epoch[0], val_loss: 2.2716, val_acc:0.1431\n",
            "Epoch[0], val_loss: 2.2705, val_acc:0.1452\n",
            "Epoch[0], val_loss: 2.2694, val_acc:0.1460\n",
            "Epoch[0], val_loss: 2.2682, val_acc:0.1477\n",
            "Epoch[0], val_loss: 2.2672, val_acc:0.1495\n",
            "Epoch[0], val_loss: 2.2661, val_acc:0.1514\n",
            "Epoch[0], val_loss: 2.2651, val_acc:0.1525\n",
            "Epoch[0], val_loss: 2.2640, val_acc:0.1540\n",
            "Epoch[0], val_loss: 2.2630, val_acc:0.1557\n",
            "Epoch[0], val_loss: 2.2619, val_acc:0.1579\n",
            "Epoch[0], val_loss: 2.2609, val_acc:0.1595\n",
            "Epoch[0], val_loss: 2.2598, val_acc:0.1608\n",
            "Epoch[0], val_loss: 2.2587, val_acc:0.1620\n",
            "Epoch[0], val_loss: 2.2576, val_acc:0.1639\n",
            "Epoch[0], val_loss: 2.2566, val_acc:0.1653\n",
            "Epoch[0], val_loss: 2.2556, val_acc:0.1670\n",
            "Epoch[0], val_loss: 2.2546, val_acc:0.1681\n",
            "Epoch[0], val_loss: 2.2535, val_acc:0.1700\n",
            "Epoch[0], val_loss: 2.2525, val_acc:0.1720\n",
            "Epoch[0], val_loss: 2.2516, val_acc:0.1736\n",
            "Epoch[0], val_loss: 2.2506, val_acc:0.1751\n",
            "Epoch[0], val_loss: 2.2496, val_acc:0.1766\n",
            "Epoch[0], val_loss: 2.2485, val_acc:0.1773\n",
            "Epoch[0], val_loss: 2.2475, val_acc:0.1797\n",
            "Epoch[0], val_loss: 2.2465, val_acc:0.1826\n",
            "Epoch[0], val_loss: 2.2454, val_acc:0.1842\n",
            "Epoch[0], val_loss: 2.2444, val_acc:0.1865\n",
            "Epoch[0], val_loss: 2.2433, val_acc:0.1901\n",
            "Epoch[0], val_loss: 2.2424, val_acc:0.1919\n",
            "Epoch[0], val_loss: 2.2413, val_acc:0.1943\n",
            "Epoch[0], val_loss: 2.2403, val_acc:0.1958\n",
            "Epoch[0], val_loss: 2.2392, val_acc:0.1967\n",
            "Epoch[0], val_loss: 2.2382, val_acc:0.1980\n",
            "Epoch[0], val_loss: 2.2371, val_acc:0.1994\n",
            "Epoch[0], val_loss: 2.2361, val_acc:0.2007\n",
            "Epoch[0], val_loss: 2.2350, val_acc:0.2023\n",
            "Epoch[0], val_loss: 2.2340, val_acc:0.2036\n",
            "Epoch[0], val_loss: 2.2328, val_acc:0.2059\n",
            "Epoch[0], val_loss: 2.2318, val_acc:0.2091\n",
            "Epoch[0], val_loss: 2.2307, val_acc:0.2102\n",
            "Epoch[0], val_loss: 2.2297, val_acc:0.2116\n",
            "Epoch[0], val_loss: 2.2286, val_acc:0.2141\n",
            "Epoch[0], val_loss: 2.2275, val_acc:0.2160\n",
            "Epoch[0], val_loss: 2.2265, val_acc:0.2184\n",
            "Epoch[0], val_loss: 2.2254, val_acc:0.2203\n",
            "Epoch[0], val_loss: 2.2244, val_acc:0.2212\n",
            "Epoch[0], val_loss: 2.2233, val_acc:0.2239\n",
            "Epoch[0], val_loss: 2.2222, val_acc:0.2257\n",
            "Epoch[0], val_loss: 2.2212, val_acc:0.2280\n",
            "Epoch[0], val_loss: 2.2201, val_acc:0.2317\n",
            "Epoch[0], val_loss: 2.2189, val_acc:0.2341\n",
            "Epoch[0], val_loss: 2.2179, val_acc:0.2358\n",
            "Epoch[0], val_loss: 2.2169, val_acc:0.2376\n",
            "Epoch[0], val_loss: 2.2160, val_acc:0.2394\n",
            "Epoch[0], val_loss: 2.2150, val_acc:0.2413\n",
            "Epoch[0], val_loss: 2.2140, val_acc:0.2436\n",
            "Epoch[0], val_loss: 2.2131, val_acc:0.2450\n",
            "Epoch[0], val_loss: 2.2120, val_acc:0.2468\n",
            "Epoch[0], val_loss: 2.2111, val_acc:0.2493\n",
            "Epoch[0], val_loss: 2.2101, val_acc:0.2507\n",
            "Epoch[0], val_loss: 2.2090, val_acc:0.2529\n",
            "Epoch[0], val_loss: 2.2081, val_acc:0.2545\n",
            "Epoch[0], val_loss: 2.2070, val_acc:0.2552\n",
            "Epoch[0], val_loss: 2.2060, val_acc:0.2565\n",
            "Epoch[0], val_loss: 2.2052, val_acc:0.2576\n",
            "Epoch[0], val_loss: 2.2042, val_acc:0.2595\n",
            "Epoch[0], val_loss: 2.2031, val_acc:0.2603\n",
            "Epoch[0], val_loss: 2.2021, val_acc:0.2621\n",
            "Epoch[0], val_loss: 2.2011, val_acc:0.2641\n",
            "Epoch[0], val_loss: 2.2002, val_acc:0.2668\n",
            "Epoch[0], val_loss: 2.1991, val_acc:0.2678\n",
            "Epoch[0], val_loss: 2.1981, val_acc:0.2695\n",
            "Epoch[0], val_loss: 2.1970, val_acc:0.2714\n",
            "Epoch[0], val_loss: 2.1960, val_acc:0.2730\n",
            "Epoch[0], val_loss: 2.1950, val_acc:0.2754\n",
            "Epoch[0], val_loss: 2.1941, val_acc:0.2778\n",
            "Epoch[0], val_loss: 2.1930, val_acc:0.2794\n",
            "Epoch[0], val_loss: 2.1920, val_acc:0.2811\n",
            "Epoch[0], val_loss: 2.1910, val_acc:0.2823\n",
            "Epoch[0], val_loss: 2.1900, val_acc:0.2836\n",
            "Epoch[0], val_loss: 2.1890, val_acc:0.2861\n",
            "Epoch[0], val_loss: 2.1879, val_acc:0.2877\n",
            "Epoch[0], val_loss: 2.1869, val_acc:0.2891\n",
            "Epoch[0], val_loss: 2.1858, val_acc:0.2912\n",
            "Epoch[0], val_loss: 2.1848, val_acc:0.2925\n",
            "Epoch[0], val_loss: 2.1838, val_acc:0.2943\n",
            "Epoch[0], val_loss: 2.1828, val_acc:0.2966\n",
            "Epoch[0], val_loss: 2.1818, val_acc:0.2969\n",
            "Epoch[0], val_loss: 2.1808, val_acc:0.2996\n",
            "Epoch[0], val_loss: 2.1798, val_acc:0.3030\n",
            "Epoch[0], val_loss: 2.1789, val_acc:0.3038\n",
            "Epoch[0], val_loss: 2.1780, val_acc:0.3057\n",
            "Epoch[0], val_loss: 2.1769, val_acc:0.3083\n",
            "Epoch[0], val_loss: 2.1760, val_acc:0.3098\n",
            "Epoch[0], val_loss: 2.1751, val_acc:0.3112\n",
            "Epoch[0], val_loss: 2.1741, val_acc:0.3125\n",
            "Epoch[0], val_loss: 2.1732, val_acc:0.3148\n",
            "Epoch[0], val_loss: 2.1722, val_acc:0.3163\n",
            "Epoch[0], val_loss: 2.1712, val_acc:0.3184\n",
            "Epoch[0], val_loss: 2.1703, val_acc:0.3209\n",
            "Epoch[0], val_loss: 2.1694, val_acc:0.3231\n",
            "Epoch[0], val_loss: 2.1682, val_acc:0.3259\n",
            "Epoch[0], val_loss: 2.1673, val_acc:0.3277\n",
            "Epoch[0], val_loss: 2.1664, val_acc:0.3299\n",
            "Epoch[0], val_loss: 2.1654, val_acc:0.3328\n",
            "Epoch[0], val_loss: 2.1645, val_acc:0.3335\n",
            "Epoch[0], val_loss: 2.1636, val_acc:0.3351\n",
            "Epoch[0], val_loss: 2.1627, val_acc:0.3377\n",
            "Epoch[0], val_loss: 2.1618, val_acc:0.3392\n",
            "Epoch[0], val_loss: 2.1608, val_acc:0.3412\n",
            "Epoch[0], val_loss: 2.1598, val_acc:0.3428\n",
            "Epoch[0], val_loss: 2.1589, val_acc:0.3438\n",
            "Epoch[0], val_loss: 2.1579, val_acc:0.3461\n",
            "Epoch[0], val_loss: 2.1570, val_acc:0.3487\n",
            "Epoch[0], val_loss: 2.1560, val_acc:0.3516\n",
            "Epoch[0], val_loss: 2.1551, val_acc:0.3536\n",
            "Epoch[0], val_loss: 2.1540, val_acc:0.3551\n",
            "Epoch[0], val_loss: 2.1531, val_acc:0.3566\n",
            "Epoch[0], val_loss: 2.1521, val_acc:0.3586\n",
            "Epoch[0], val_loss: 2.1511, val_acc:0.3605\n",
            "Epoch[0], val_loss: 2.1502, val_acc:0.3618\n",
            "Epoch[0], val_loss: 2.1492, val_acc:0.3633\n",
            "Epoch[0], val_loss: 2.1484, val_acc:0.3645\n",
            "Epoch[0], val_loss: 2.1475, val_acc:0.3663\n",
            "Epoch[0], val_loss: 2.1465, val_acc:0.3678\n",
            "Epoch[0], val_loss: 2.1455, val_acc:0.3696\n",
            "Epoch[0], val_loss: 2.1447, val_acc:0.3713\n",
            "Epoch[0], val_loss: 2.1437, val_acc:0.3729\n",
            "Epoch[0], val_loss: 2.1429, val_acc:0.3752\n",
            "Epoch[0], val_loss: 2.1419, val_acc:0.3762\n",
            "Epoch[0], val_loss: 2.1410, val_acc:0.3784\n",
            "Epoch[0], val_loss: 2.1401, val_acc:0.3796\n",
            "Epoch[0], val_loss: 2.1391, val_acc:0.3815\n",
            "Epoch[0], val_loss: 2.1381, val_acc:0.3825\n",
            "Epoch[0], val_loss: 2.1372, val_acc:0.3842\n",
            "Epoch[0], val_loss: 2.1363, val_acc:0.3856\n",
            "Epoch[0], val_loss: 2.1353, val_acc:0.3860\n",
            "Epoch[0], val_loss: 2.1343, val_acc:0.3884\n",
            "Epoch[0], val_loss: 2.1333, val_acc:0.3896\n",
            "Epoch[0], val_loss: 2.1323, val_acc:0.3915\n",
            "Epoch[0], val_loss: 2.1314, val_acc:0.3934\n",
            "Epoch[0], val_loss: 2.1304, val_acc:0.3962\n",
            "Epoch[0], val_loss: 2.1293, val_acc:0.3980\n",
            "Epoch[0], val_loss: 2.1284, val_acc:0.3993\n",
            "Epoch[0], val_loss: 2.1274, val_acc:0.4012\n",
            "Epoch[0], val_loss: 2.1266, val_acc:0.4025\n",
            "Epoch[0], val_loss: 2.1255, val_acc:0.4044\n",
            "Epoch[0], val_loss: 2.1245, val_acc:0.4060\n",
            "Epoch[0], val_loss: 2.1237, val_acc:0.4070\n",
            "Epoch[0], val_loss: 2.1227, val_acc:0.4085\n",
            "Epoch[0], val_loss: 2.1217, val_acc:0.4099\n",
            "Epoch[0], val_loss: 2.1207, val_acc:0.4113\n",
            "Epoch[0], val_loss: 2.1198, val_acc:0.4121\n",
            "Epoch[0], val_loss: 2.1189, val_acc:0.4135\n",
            "Epoch[0], val_loss: 2.1179, val_acc:0.4153\n",
            "Epoch[0], val_loss: 2.1170, val_acc:0.4163\n",
            "Epoch[0], val_loss: 2.1161, val_acc:0.4177\n",
            "Epoch[0], val_loss: 2.1151, val_acc:0.4197\n",
            "Epoch[0], val_loss: 2.1142, val_acc:0.4222\n",
            "Epoch[0], val_loss: 2.1134, val_acc:0.4227\n",
            "Epoch[0], val_loss: 2.1124, val_acc:0.4244\n",
            "Epoch[0], val_loss: 2.1115, val_acc:0.4264\n",
            "Epoch[0], val_loss: 2.1105, val_acc:0.4286\n",
            "Epoch[0], val_loss: 2.1096, val_acc:0.4297\n",
            "Epoch[0], val_loss: 2.1087, val_acc:0.4316\n",
            "Epoch[0], val_loss: 2.1077, val_acc:0.4327\n",
            "Epoch[0], val_loss: 2.1067, val_acc:0.4341\n",
            "Epoch[0], val_loss: 2.1057, val_acc:0.4359\n",
            "Epoch[0], val_loss: 2.1048, val_acc:0.4369\n",
            "Epoch[0], val_loss: 2.1040, val_acc:0.4391\n",
            "Epoch[0], val_loss: 2.1030, val_acc:0.4411\n",
            "Epoch[0], val_loss: 2.1021, val_acc:0.4419\n",
            "Epoch[0], val_loss: 2.1012, val_acc:0.4440\n",
            "Epoch[0], val_loss: 2.1003, val_acc:0.4451\n",
            "Epoch[0], val_loss: 2.0993, val_acc:0.4459\n",
            "Epoch[0], val_loss: 2.0983, val_acc:0.4472\n",
            "Epoch[0], val_loss: 2.0975, val_acc:0.4508\n",
            "Epoch[0], val_loss: 2.0965, val_acc:0.4522\n",
            "Epoch[0], val_loss: 2.0957, val_acc:0.4524\n",
            "Epoch[0], val_loss: 2.0948, val_acc:0.4532\n",
            "Epoch[0], val_loss: 2.0939, val_acc:0.4548\n",
            "Epoch[0], val_loss: 2.0930, val_acc:0.4563\n",
            "Epoch[0], val_loss: 2.0921, val_acc:0.4582\n",
            "Epoch[0], val_loss: 2.0911, val_acc:0.4587\n",
            "Epoch[0], val_loss: 2.0903, val_acc:0.4605\n",
            "Epoch[0], val_loss: 2.0893, val_acc:0.4612\n",
            "Epoch[0], val_loss: 2.0885, val_acc:0.4630\n",
            "Epoch[0], val_loss: 2.0876, val_acc:0.4643\n",
            "Epoch[0], val_loss: 2.0867, val_acc:0.4665\n",
            "Epoch[0], val_loss: 2.0859, val_acc:0.4684\n",
            "Epoch[0], val_loss: 2.0850, val_acc:0.4687\n",
            "Epoch[0], val_loss: 2.0840, val_acc:0.4696\n",
            "Epoch[0], val_loss: 2.0830, val_acc:0.4710\n",
            "Epoch[0], val_loss: 2.0820, val_acc:0.4731\n",
            "Epoch[0], val_loss: 2.0812, val_acc:0.4750\n",
            "Epoch[0], val_loss: 2.0804, val_acc:0.4769\n",
            "Epoch[0], val_loss: 2.0795, val_acc:0.4775\n",
            "Epoch[0], val_loss: 2.0786, val_acc:0.4791\n",
            "Epoch[0], val_loss: 2.0776, val_acc:0.4801\n",
            "Epoch[0], val_loss: 2.0767, val_acc:0.4815\n",
            "Epoch[0], val_loss: 2.0758, val_acc:0.4825\n",
            "Epoch[0], val_loss: 2.0750, val_acc:0.4844\n",
            "Epoch[0], val_loss: 2.0742, val_acc:0.4860\n",
            "Epoch[0], val_loss: 2.0732, val_acc:0.4866\n",
            "Epoch[0], val_loss: 2.0723, val_acc:0.4878\n",
            "Epoch[0], val_loss: 2.0714, val_acc:0.4879\n",
            "Epoch[0], val_loss: 2.0706, val_acc:0.4901\n",
            "Epoch[0], val_loss: 2.0697, val_acc:0.4904\n",
            "Epoch[0], val_loss: 2.0688, val_acc:0.4908\n",
            "Epoch[0], val_loss: 2.0679, val_acc:0.4917\n",
            "Epoch[0], val_loss: 2.0670, val_acc:0.4926\n",
            "Epoch[0], val_loss: 2.0661, val_acc:0.4950\n",
            "Epoch[0], val_loss: 2.0652, val_acc:0.4960\n",
            "Epoch[0], val_loss: 2.0643, val_acc:0.4966\n",
            "Epoch[0], val_loss: 2.0634, val_acc:0.4988\n",
            "Epoch[0], val_loss: 2.0625, val_acc:0.5008\n",
            "Epoch[0], val_loss: 2.0616, val_acc:0.5012\n",
            "Epoch[0], val_loss: 2.0607, val_acc:0.5023\n",
            "Epoch[0], val_loss: 2.0598, val_acc:0.5033\n",
            "Epoch[0], val_loss: 2.0590, val_acc:0.5053\n",
            "Epoch[0], val_loss: 2.0581, val_acc:0.5069\n",
            "Epoch[0], val_loss: 2.0572, val_acc:0.5085\n",
            "Epoch[0], val_loss: 2.0563, val_acc:0.5095\n",
            "Epoch[0], val_loss: 2.0554, val_acc:0.5110\n",
            "Epoch[0], val_loss: 2.0545, val_acc:0.5117\n",
            "Epoch[0], val_loss: 2.0536, val_acc:0.5124\n",
            "Epoch[0], val_loss: 2.0528, val_acc:0.5132\n",
            "Epoch[0], val_loss: 2.0519, val_acc:0.5143\n",
            "Epoch[0], val_loss: 2.0510, val_acc:0.5159\n",
            "Epoch[0], val_loss: 2.0501, val_acc:0.5174\n",
            "Epoch[0], val_loss: 2.0492, val_acc:0.5190\n",
            "Epoch[0], val_loss: 2.0483, val_acc:0.5216\n",
            "Epoch[0], val_loss: 2.0474, val_acc:0.5235\n",
            "Epoch[0], val_loss: 2.0466, val_acc:0.5244\n",
            "Epoch[0], val_loss: 2.0457, val_acc:0.5247\n",
            "Epoch[0], val_loss: 2.0449, val_acc:0.5260\n",
            "Epoch[0], val_loss: 2.0440, val_acc:0.5271\n",
            "Epoch[0], val_loss: 2.0432, val_acc:0.5274\n",
            "Epoch[0], val_loss: 2.0424, val_acc:0.5285\n",
            "Epoch[0], val_loss: 2.0415, val_acc:0.5295\n",
            "Epoch[0], val_loss: 2.0407, val_acc:0.5301\n",
            "Epoch[0], val_loss: 2.0399, val_acc:0.5306\n",
            "Epoch[0], val_loss: 2.0390, val_acc:0.5316\n",
            "Epoch[0], val_loss: 2.0380, val_acc:0.5328\n",
            "Epoch[0], val_loss: 2.0371, val_acc:0.5341\n",
            "Epoch[0], val_loss: 2.0362, val_acc:0.5359\n",
            "Epoch[0], val_loss: 2.0353, val_acc:0.5373\n",
            "Epoch[0], val_loss: 2.0345, val_acc:0.5379\n",
            "Epoch[0], val_loss: 2.0336, val_acc:0.5400\n",
            "Epoch[0], val_loss: 2.0328, val_acc:0.5402\n",
            "Epoch[0], val_loss: 2.0320, val_acc:0.5420\n",
            "Epoch[0], val_loss: 2.0310, val_acc:0.5421\n",
            "Epoch[0], val_loss: 2.0303, val_acc:0.5435\n",
            "Epoch[0], val_loss: 2.0294, val_acc:0.5447\n",
            "Epoch[0], val_loss: 2.0286, val_acc:0.5465\n",
            "Epoch[0], val_loss: 2.0277, val_acc:0.5472\n",
            "Epoch[0], val_loss: 2.0268, val_acc:0.5481\n",
            "Epoch[0], val_loss: 2.0259, val_acc:0.5491\n",
            "Epoch[0], val_loss: 2.0250, val_acc:0.5495\n",
            "Epoch[0], val_loss: 2.0242, val_acc:0.5510\n",
            "Epoch[0], val_loss: 2.0233, val_acc:0.5525\n",
            "Epoch[0], val_loss: 2.0225, val_acc:0.5529\n",
            "Epoch[0], val_loss: 2.0216, val_acc:0.5532\n",
            "Epoch[0], val_loss: 2.0209, val_acc:0.5551\n",
            "Epoch[0], val_loss: 2.0200, val_acc:0.5563\n",
            "Epoch[0], val_loss: 2.0191, val_acc:0.5579\n",
            "Epoch[0], val_loss: 2.0182, val_acc:0.5587\n",
            "Epoch[0], val_loss: 2.0174, val_acc:0.5589\n",
            "Epoch[0], val_loss: 2.0165, val_acc:0.5596\n",
            "Epoch[0], val_loss: 2.0157, val_acc:0.5604\n",
            "Epoch[0], val_loss: 2.0148, val_acc:0.5612\n",
            "Epoch[0], val_loss: 2.0140, val_acc:0.5626\n",
            "Epoch[0], val_loss: 2.0131, val_acc:0.5633\n",
            "Epoch[0], val_loss: 2.0123, val_acc:0.5631\n",
            "Epoch[0], val_loss: 2.0114, val_acc:0.5631\n",
            "Epoch[0], val_loss: 2.0105, val_acc:0.5645\n",
            "Epoch[0], val_loss: 2.0097, val_acc:0.5655\n",
            "Epoch[0], val_loss: 2.0088, val_acc:0.5674\n",
            "Epoch[0], val_loss: 2.0080, val_acc:0.5680\n",
            "Epoch[0], val_loss: 2.0071, val_acc:0.5688\n",
            "Epoch[0], val_loss: 2.0063, val_acc:0.5702\n",
            "Epoch[0], val_loss: 2.0054, val_acc:0.5712\n",
            "Epoch[0], val_loss: 2.0046, val_acc:0.5720\n",
            "Epoch[0], val_loss: 2.0038, val_acc:0.5736\n",
            "Epoch[0], val_loss: 2.0031, val_acc:0.5746\n",
            "Epoch[0], val_loss: 2.0023, val_acc:0.5752\n",
            "Epoch[0], val_loss: 2.0015, val_acc:0.5759\n",
            "Epoch[0], val_loss: 2.0006, val_acc:0.5769\n",
            "Epoch[0], val_loss: 1.9998, val_acc:0.5781\n",
            "Epoch[0], val_loss: 1.9989, val_acc:0.5792\n",
            "Epoch[0], val_loss: 1.9980, val_acc:0.5794\n",
            "Epoch[0], val_loss: 1.9972, val_acc:0.5809\n",
            "Epoch[0], val_loss: 1.9963, val_acc:0.5819\n",
            "Epoch[0], val_loss: 1.9955, val_acc:0.5830\n",
            "Epoch[0], val_loss: 1.9947, val_acc:0.5840\n",
            "Epoch[0], val_loss: 1.9938, val_acc:0.5859\n",
            "Epoch[0], val_loss: 1.9930, val_acc:0.5879\n",
            "Epoch[0], val_loss: 1.9921, val_acc:0.5878\n",
            "Epoch[0], val_loss: 1.9912, val_acc:0.5890\n",
            "Epoch[0], val_loss: 1.9903, val_acc:0.5893\n",
            "Epoch[0], val_loss: 1.9896, val_acc:0.5899\n",
            "Epoch[0], val_loss: 1.9887, val_acc:0.5908\n",
            "Epoch[0], val_loss: 1.9879, val_acc:0.5912\n",
            "Epoch[0], val_loss: 1.9870, val_acc:0.5915\n",
            "Epoch[0], val_loss: 1.9862, val_acc:0.5922\n",
            "Epoch[0], val_loss: 1.9855, val_acc:0.5931\n",
            "Epoch[0], val_loss: 1.9846, val_acc:0.5937\n",
            "Epoch[0], val_loss: 1.9838, val_acc:0.5943\n",
            "Epoch[0], val_loss: 1.9829, val_acc:0.5946\n",
            "Epoch[0], val_loss: 1.9821, val_acc:0.5943\n",
            "Epoch[0], val_loss: 1.9813, val_acc:0.5960\n",
            "Epoch[0], val_loss: 1.9806, val_acc:0.5964\n",
            "Epoch[0], val_loss: 1.9797, val_acc:0.5972\n",
            "Epoch[0], val_loss: 1.9789, val_acc:0.5982\n",
            "Epoch[0], val_loss: 1.9782, val_acc:0.5990\n",
            "Epoch[0], val_loss: 1.9774, val_acc:0.5992\n",
            "Epoch[0], val_loss: 1.9766, val_acc:0.6002\n",
            "Epoch[0], val_loss: 1.9759, val_acc:0.6007\n",
            "Epoch[0], val_loss: 1.9750, val_acc:0.6016\n",
            "Epoch[0], val_loss: 1.9742, val_acc:0.6024\n",
            "Epoch[0], val_loss: 1.9734, val_acc:0.6033\n",
            "Epoch[0], val_loss: 1.9726, val_acc:0.6045\n",
            "Epoch[0], val_loss: 1.9718, val_acc:0.6061\n",
            "Epoch[0], val_loss: 1.9709, val_acc:0.6069\n",
            "Epoch[0], val_loss: 1.9701, val_acc:0.6079\n",
            "Epoch[0], val_loss: 1.9693, val_acc:0.6089\n",
            "Epoch[0], val_loss: 1.9685, val_acc:0.6099\n",
            "Epoch[0], val_loss: 1.9677, val_acc:0.6109\n",
            "Epoch[0], val_loss: 1.9669, val_acc:0.6120\n",
            "Epoch[0], val_loss: 1.9662, val_acc:0.6142\n",
            "Epoch[0], val_loss: 1.9653, val_acc:0.6146\n",
            "Epoch[0], val_loss: 1.9645, val_acc:0.6154\n",
            "Epoch[0], val_loss: 1.9637, val_acc:0.6151\n",
            "Epoch[0], val_loss: 1.9629, val_acc:0.6153\n",
            "Epoch[0], val_loss: 1.9621, val_acc:0.6169\n",
            "Epoch[0], val_loss: 1.9613, val_acc:0.6172\n",
            "Epoch[0], val_loss: 1.9605, val_acc:0.6176\n",
            "Epoch[0], val_loss: 1.9597, val_acc:0.6194\n",
            "Epoch[0], val_loss: 1.9589, val_acc:0.6191\n",
            "Epoch[0], val_loss: 1.9581, val_acc:0.6205\n",
            "Epoch[0], val_loss: 1.9573, val_acc:0.6210\n",
            "Epoch[0], val_loss: 1.9563, val_acc:0.6216\n",
            "Epoch[0], val_loss: 1.9555, val_acc:0.6227\n",
            "Epoch[0], val_loss: 1.9547, val_acc:0.6234\n",
            "Epoch[0], val_loss: 1.9539, val_acc:0.6239\n",
            "Epoch[0], val_loss: 1.9531, val_acc:0.6244\n",
            "Epoch[0], val_loss: 1.9523, val_acc:0.6254\n",
            "Epoch[0], val_loss: 1.9515, val_acc:0.6255\n",
            "Epoch[0], val_loss: 1.9506, val_acc:0.6255\n",
            "Epoch[0], val_loss: 1.9498, val_acc:0.6269\n",
            "Epoch[0], val_loss: 1.9490, val_acc:0.6272\n",
            "Epoch[0], val_loss: 1.9482, val_acc:0.6278\n",
            "Epoch[0], val_loss: 1.9474, val_acc:0.6282\n",
            "Epoch[0], val_loss: 1.9467, val_acc:0.6287\n",
            "Epoch[0], val_loss: 1.9459, val_acc:0.6290\n",
            "Epoch[0], val_loss: 1.9450, val_acc:0.6299\n",
            "Epoch[0], val_loss: 1.9443, val_acc:0.6306\n",
            "Epoch[0], val_loss: 1.9435, val_acc:0.6319\n"
          ]
        }
      ]
    },
    {
      "cell_type": "code",
      "source": [
        "# replace these values with your results\n",
        "\n",
        "history = [result0]+history1\n",
        "accuracies = [result['val_acc']for result in history]\n",
        "\n",
        "plt.plot(accuracies, 'x')\n",
        "plt.xlabel('epoch')\n",
        "plt.ylabel('accuracy')\n",
        "plt.title('Accuracy vs.NO.of epochs')"
      ],
      "metadata": {
        "colab": {
          "base_uri": "https://localhost:8080/",
          "height": 489
        },
        "id": "kNXqu0R86Xgs",
        "outputId": "b7696d36-d541-45c3-9341-53275538de28"
      },
      "id": "kNXqu0R86Xgs",
      "execution_count": 81,
      "outputs": [
        {
          "output_type": "execute_result",
          "data": {
            "text/plain": [
              "Text(0.5, 1.0, 'Accuracy vs.NO.of epochs')"
            ]
          },
          "metadata": {},
          "execution_count": 81
        },
        {
          "output_type": "display_data",
          "data": {
            "text/plain": [
              "<Figure size 640x480 with 1 Axes>"
            ],
            "image/png": "[encoded data removed]"
          },
          "metadata": {}
        }
      ]
    },
    {
      "cell_type": "code",
      "source": [
        "\n",
        "# Define test dataset\n",
        "test_dataset = MNIST(root='extracted_data/data/', train=False, transform=transforms.ToTensor())\n"
      ],
      "metadata": {
        "id": "20vdTWQv75X3"
      },
      "id": "20vdTWQv75X3",
      "execution_count": 85,
      "outputs": []
    },
    {
      "cell_type": "code",
      "source": [
        "img,label  =test_dataset[0]\n",
        "\n",
        "plt.imshow(img[0], cmap = 'gray')\n",
        "\n",
        "print('Shape:', img.shape)\n",
        "print('Label', label)"
      ],
      "metadata": {
        "colab": {
          "base_uri": "https://localhost:8080/",
          "height": 465
        },
        "id": "1mOCQz_8QEct",
        "outputId": "575d17ab-a38f-4deb-aeac-7497c60e2775"
      },
      "id": "1mOCQz_8QEct",
      "execution_count": 86,
      "outputs": [
        {
          "output_type": "stream",
          "name": "stdout",
          "text": [
            "Shape: torch.Size([1, 28, 28])\n",
            "Label 7\n"
          ]
        },
        {
          "output_type": "display_data",
          "data": {
            "text/plain": [
              "<Figure size 640x480 with 1 Axes>"
            ],
            "image/png": "[encoded data removed]"
          },
          "metadata": {}
        }
      ]
    },
    {
      "cell_type": "code",
      "source": [
        "img.unsqueeze(0).shape"
      ],
      "metadata": {
        "colab": {
          "base_uri": "https://localhost:8080/"
        },
        "id": "yQvc_fa3QtaU",
        "outputId": "04a5494e-0b77-474a-ef1e-4b377bc9d8fa"
      },
      "id": "yQvc_fa3QtaU",
      "execution_count": 87,
      "outputs": [
        {
          "output_type": "execute_result",
          "data": {
            "text/plain": [
              "torch.Size([1, 1, 28, 28])"
            ]
          },
          "metadata": {},
          "execution_count": 87
        }
      ]
    },
    {
      "cell_type": "code",
      "source": [
        "def predict_image(img, model):\n",
        "  xb = img.unsqueeze(0)\n",
        "  yb = model(xb)\n",
        "  _, preds = torch.max(yb, dim = 1)\n",
        "  return preds[0].item()"
      ],
      "metadata": {
        "id": "XJ5Tc4PMTqbd"
      },
      "id": "XJ5Tc4PMTqbd",
      "execution_count": 88,
      "outputs": []
    },
    {
      "cell_type": "code",
      "source": [
        "img, label  =test_dataset[0]\n",
        "plt.imshow(img[0], cmap =('gray'))\n",
        "print('Label:', label, ', Predicated:', predict_image(img, model))\n"
      ],
      "metadata": {
        "colab": {
          "base_uri": "https://localhost:8080/",
          "height": 447
        },
        "id": "s8A9mjFeUCkT",
        "outputId": "08ba5f6e-aea7-4714-cb4d-f059cea29edf"
      },
      "id": "s8A9mjFeUCkT",
      "execution_count": 89,
      "outputs": [
        {
          "output_type": "stream",
          "name": "stdout",
          "text": [
            "Label: 7 , Predicated: 7\n"
          ]
        },
        {
          "output_type": "display_data",
          "data": {
            "text/plain": [
              "<Figure size 640x480 with 1 Axes>"
            ],
            "image/png": "[encoded data removed]"
          },
          "metadata": {}
        }
      ]
    },
    {
      "cell_type": "code",
      "source": [
        "img, label  =test_dataset[8]\n",
        "plt.imshow(img[0], cmap =('gray'))\n",
        "print('Label:', label, ',  Predicated:', predict_image(img, model))\n"
      ],
      "metadata": {
        "colab": {
          "base_uri": "https://localhost:8080/",
          "height": 447
        },
        "id": "qI9xMXucUqT2",
        "outputId": "a32e88a4-75ae-4784-a69e-dbf7557d74b9"
      },
      "id": "qI9xMXucUqT2",
      "execution_count": 95,
      "outputs": [
        {
          "output_type": "stream",
          "name": "stdout",
          "text": [
            "Label: 5 ,  Predicated: 6\n"
          ]
        },
        {
          "output_type": "display_data",
          "data": {
            "text/plain": [
              "<Figure size 640x480 with 1 Axes>"
            ],
            "image/png": "[encoded data removed]"
          },
          "metadata": {}
        }
      ]
    },
    {
      "cell_type": "code",
      "source": [
        "img, label  =test_dataset[6]\n",
        "plt.imshow(img[0], cmap =('gray'))\n",
        "print('Label:', label, ', Predicated:', predict_image(img, model))\n"
      ],
      "metadata": {
        "colab": {
          "base_uri": "https://localhost:8080/",
          "height": 447
        },
        "id": "V2_0BdNXUs0k",
        "outputId": "de649054-dfad-4c3d-bfaa-a7a0a62aca19"
      },
      "id": "V2_0BdNXUs0k",
      "execution_count": 94,
      "outputs": [
        {
          "output_type": "stream",
          "name": "stdout",
          "text": [
            "Label: 4 , Predicated: 9\n"
          ]
        },
        {
          "output_type": "display_data",
          "data": {
            "text/plain": [
              "<Figure size 640x480 with 1 Axes>"
            ],
            "image/png": "[encoded data removed]"
          },
          "metadata": {}
        }
      ]
    },
    {
      "cell_type": "code",
      "source": [],
      "metadata": {
        "id": "IQN91fzpZ4Gf"
      },
      "id": "IQN91fzpZ4Gf",
      "execution_count": null,
      "outputs": []
    }
  ],
  "metadata": {
    "kernelspec": {
      "display_name": "Python 3 (ipykernel)",
      "language": "python",
      "name": "python3"
    },
    "language_info": {
      "codemirror_mode": {
        "name": "ipython",
        "version": 3
      },
      "file_extension": ".py",
      "mimetype": "text/x-python",
      "name": "python",
      "nbconvert_exporter": "python",
      "pygments_lexer": "ipython3",
      "version": "3.12.7"
    },
    "colab": {
      "provenance": []
    }
  },
  "nbformat": 4,
  "nbformat_minor": 5
}